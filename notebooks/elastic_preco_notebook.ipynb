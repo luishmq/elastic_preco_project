{
 "cells": [
  {
   "cell_type": "markdown",
   "id": "31c02cf9-0d0d-40b8-b2af-1b7e66b633b1",
   "metadata": {},
   "source": [
    "# 0.0 Import"
   ]
  },
  {
   "cell_type": "code",
   "execution_count": 18,
   "id": "37fc3bb5-c32a-43d7-8fbf-ac5ff5dce056",
   "metadata": {},
   "outputs": [],
   "source": [
    "import pandas as pd\n",
    "import numpy as np\n",
    "import seaborn as sns\n",
    "from IPython.core.display import HTML\n",
    "import inflection"
   ]
  },
  {
   "cell_type": "markdown",
   "id": "4c33df13-9950-4a2c-b423-ae474d869eb9",
   "metadata": {},
   "source": [
    "## 0.1 Helper Functions"
   ]
  },
  {
   "cell_type": "code",
   "execution_count": 19,
   "id": "1a30325f-ab93-4bb5-a02b-c0d225f17249",
   "metadata": {},
   "outputs": [],
   "source": [
    "def jupyter_settings():\n",
    "    %matplotlib inline\n",
    "    %pylab inline\n",
    "\n",
    "    plt.style.use( 'bmh' )\n",
    "    plt.rcParams['figure.figsize'] = [25, 12]\n",
    "    plt.rcParams['font.size'] = 24\n",
    "    \n",
    "    display( HTML( '<style>.container { width:100% !important; }</style>') )\n",
    "    pd.options.display.max_columns = None\n",
    "    pd.options.display.max_rows = None\n",
    "    pd.set_option( 'display.expand_frame_repr', False )\n",
    "    \n",
    "    sns.set()"
   ]
  },
  {
   "cell_type": "code",
   "execution_count": 20,
   "id": "a4e57a52-c98a-4f96-adb6-e4d4cab28e17",
   "metadata": {},
   "outputs": [
    {
     "name": "stdout",
     "output_type": "stream",
     "text": [
      "%pylab is deprecated, use %matplotlib inline and import the required libraries.\n",
      "Populating the interactive namespace from numpy and matplotlib\n"
     ]
    },
    {
     "data": {
      "text/html": [
       "<style>.container { width:100% !important; }</style>"
      ],
      "text/plain": [
       "<IPython.core.display.HTML object>"
      ]
     },
     "metadata": {},
     "output_type": "display_data"
    }
   ],
   "source": [
    "jupyter_settings()"
   ]
  },
  {
   "cell_type": "markdown",
   "id": "1e42d62b-1629-4aa0-bb5c-900a5e9d5642",
   "metadata": {},
   "source": [
    "## 0.2 Loading Data"
   ]
  },
  {
   "cell_type": "code",
   "execution_count": 7,
   "id": "48f61cd6-bb95-48e7-92ea-d70e7dd11987",
   "metadata": {},
   "outputs": [],
   "source": [
    "# Loading Dataset\n",
    "df_raw = pd.read_csv('../data/df_ready.csv')"
   ]
  },
  {
   "cell_type": "code",
   "execution_count": 10,
   "id": "d7e99db6-7e02-4588-9ced-8438de0afb56",
   "metadata": {},
   "outputs": [
    {
     "data": {
      "text/html": [
       "<div>\n",
       "<style scoped>\n",
       "    .dataframe tbody tr th:only-of-type {\n",
       "        vertical-align: middle;\n",
       "    }\n",
       "\n",
       "    .dataframe tbody tr th {\n",
       "        vertical-align: top;\n",
       "    }\n",
       "\n",
       "    .dataframe thead th {\n",
       "        text-align: right;\n",
       "    }\n",
       "</style>\n",
       "<table border=\"1\" class=\"dataframe\">\n",
       "  <thead>\n",
       "    <tr style=\"text-align: right;\">\n",
       "      <th></th>\n",
       "      <th>Unnamed: 0</th>\n",
       "      <th>Date_imp</th>\n",
       "      <th>Date_imp_d</th>\n",
       "      <th>Cluster</th>\n",
       "      <th>Category_name</th>\n",
       "      <th>name</th>\n",
       "      <th>price</th>\n",
       "      <th>disc_price</th>\n",
       "      <th>merchant</th>\n",
       "      <th>condition</th>\n",
       "      <th>...</th>\n",
       "      <th>sourceURLs</th>\n",
       "      <th>weight</th>\n",
       "      <th>Date_imp_d.1</th>\n",
       "      <th>Day_n</th>\n",
       "      <th>month</th>\n",
       "      <th>month_n</th>\n",
       "      <th>day</th>\n",
       "      <th>Week_Number</th>\n",
       "      <th>Zscore_1</th>\n",
       "      <th>price_std</th>\n",
       "    </tr>\n",
       "  </thead>\n",
       "  <tbody>\n",
       "    <tr>\n",
       "      <th>19222</th>\n",
       "      <td>24971</td>\n",
       "      <td>2017-07-27 03:00:00</td>\n",
       "      <td>2017/07/27</td>\n",
       "      <td>38</td>\n",
       "      <td>networking, modem, router</td>\n",
       "      <td>Details About New Arris Surfboard 16x Cable Mo...</td>\n",
       "      <td>174.95</td>\n",
       "      <td>174.95</td>\n",
       "      <td>ebay.com</td>\n",
       "      <td>New</td>\n",
       "      <td>...</td>\n",
       "      <td>http://www.ebay.com/itm/ARRIS-SURFBOARD-SBG690...</td>\n",
       "      <td>3.55 pounds</td>\n",
       "      <td>2017/07/27</td>\n",
       "      <td>Thursday</td>\n",
       "      <td>7</td>\n",
       "      <td>July</td>\n",
       "      <td>27</td>\n",
       "      <td>30</td>\n",
       "      <td>1.106542</td>\n",
       "      <td>15.959317</td>\n",
       "    </tr>\n",
       "  </tbody>\n",
       "</table>\n",
       "<p>1 rows × 32 columns</p>\n",
       "</div>"
      ],
      "text/plain": [
       "       Unnamed: 0             Date_imp  Date_imp_d  Cluster  \\\n",
       "19222       24971  2017-07-27 03:00:00  2017/07/27       38   \n",
       "\n",
       "                   Category_name  \\\n",
       "19222  networking, modem, router   \n",
       "\n",
       "                                                    name   price  disc_price  \\\n",
       "19222  Details About New Arris Surfboard 16x Cable Mo...  174.95      174.95   \n",
       "\n",
       "       merchant condition  ...  \\\n",
       "19222  ebay.com       New  ...   \n",
       "\n",
       "                                              sourceURLs       weight  \\\n",
       "19222  http://www.ebay.com/itm/ARRIS-SURFBOARD-SBG690...  3.55 pounds   \n",
       "\n",
       "       Date_imp_d.1     Day_n month month_n day Week_Number  Zscore_1  \\\n",
       "19222    2017/07/27  Thursday     7    July  27          30  1.106542   \n",
       "\n",
       "       price_std  \n",
       "19222  15.959317  \n",
       "\n",
       "[1 rows x 32 columns]"
      ]
     },
     "execution_count": 10,
     "metadata": {},
     "output_type": "execute_result"
    }
   ],
   "source": [
    "df_raw.sample()"
   ]
  },
  {
   "cell_type": "code",
   "execution_count": 8,
   "id": "a047c8f4-0a74-479a-ac8c-2815d79792ab",
   "metadata": {},
   "outputs": [
    {
     "data": {
      "text/plain": [
       "Index(['Unnamed: 0', 'Date_imp', 'Date_imp_d', 'Cluster', 'Category_name',\n",
       "       'name', 'price', 'disc_price', 'merchant', 'condition',\n",
       "       'Disc_percentage', 'isSale', 'Imp_count', 'brand', 'p_description',\n",
       "       'currency', 'dateAdded', 'dateSeen', 'dateUpdated', 'imageURLs',\n",
       "       'manufacturer', 'shipping', 'sourceURLs', 'weight', 'Date_imp_d.1',\n",
       "       'Day_n', 'month', 'month_n', 'day', 'Week_Number', 'Zscore_1',\n",
       "       'price_std'],\n",
       "      dtype='object')"
      ]
     },
     "execution_count": 8,
     "metadata": {},
     "output_type": "execute_result"
    }
   ],
   "source": [
    "df_raw.columns"
   ]
  },
  {
   "cell_type": "markdown",
   "id": "2e57a403-c66c-46b9-8700-271540f2c41c",
   "metadata": {},
   "source": [
    "# 1.0 Data Description"
   ]
  },
  {
   "cell_type": "code",
   "execution_count": 9,
   "id": "a2e53e95-99cf-4fb4-8c86-ebda86a14fc9",
   "metadata": {},
   "outputs": [],
   "source": [
    "df1 = df_raw.copy()"
   ]
  },
  {
   "cell_type": "markdown",
   "id": "233904d6-3274-4d95-aee0-47f1fc9432d9",
   "metadata": {},
   "source": [
    "## 1.1 Rename Columns"
   ]
  },
  {
   "cell_type": "code",
   "execution_count": 21,
   "id": "ebb1e32f-ff8a-45a4-9097-0c1ea0f6dcb4",
   "metadata": {},
   "outputs": [],
   "source": [
    "# Mudar para snake case\n",
    "old_cols = ['Unnamed: 0', 'Date_imp', 'Date_imp_d', 'Cluster', 'Category_name',\n",
    "       'name', 'price', 'disc_price', 'merchant', 'condition',\n",
    "       'Disc_percentage', 'isSale', 'Imp_count', 'brand', 'p_description',\n",
    "       'currency', 'dateAdded', 'dateSeen', 'dateUpdated', 'imageURLs',\n",
    "       'manufacturer', 'shipping', 'sourceURLs', 'weight', 'Date_imp_d.1',\n",
    "       'Day_n', 'month', 'month_n', 'day', 'Week_Number', 'Zscore_1',\n",
    "       'price_std']\n",
    "\n",
    "snake_case = lambda x: inflection.underscore(x)\n",
    "\n",
    "new_cols = list( map(snake_case, old_cols))\n",
    "df1.columns = new_cols"
   ]
  },
  {
   "cell_type": "markdown",
   "id": "abdeab09-347e-42ba-8a77-ce89542f3d19",
   "metadata": {},
   "source": [
    "## 1.2 Data Dimensions"
   ]
  },
  {
   "cell_type": "code",
   "execution_count": 23,
   "id": "b7a07c05-051f-4dab-a38b-22f544eb785f",
   "metadata": {},
   "outputs": [
    {
     "name": "stdout",
     "output_type": "stream",
     "text": [
      "Número de linhas: 23151\n",
      "Número de colunas: 32\n"
     ]
    }
   ],
   "source": [
    "print(\"Número de linhas: {}\".format(df1.shape[0]))\n",
    "print(\"Número de colunas: {}\".format(df1.shape[1]))"
   ]
  },
  {
   "cell_type": "markdown",
   "id": "34d06d82-d0cf-44f4-858b-00c40b319e73",
   "metadata": {},
   "source": [
    "## 1.3 Data Types"
   ]
  },
  {
   "cell_type": "code",
   "execution_count": 24,
   "id": "2ad62161-b271-48e5-aa06-d9dfa22d9ddd",
   "metadata": {},
   "outputs": [
    {
     "data": {
      "text/plain": [
       "unnamed: 0           int64\n",
       "date_imp            object\n",
       "date_imp_d          object\n",
       "cluster              int64\n",
       "category_name       object\n",
       "name                object\n",
       "price              float64\n",
       "disc_price         float64\n",
       "merchant            object\n",
       "condition           object\n",
       "disc_percentage    float64\n",
       "is_sale             object\n",
       "imp_count            int64\n",
       "brand               object\n",
       "p_description       object\n",
       "currency            object\n",
       "date_added          object\n",
       "date_seen           object\n",
       "date_updated        object\n",
       "image_ur_ls         object\n",
       "manufacturer        object\n",
       "shipping            object\n",
       "source_ur_ls        object\n",
       "weight              object\n",
       "date_imp_d.1        object\n",
       "day_n               object\n",
       "month                int64\n",
       "month_n             object\n",
       "day                  int64\n",
       "week_number          int64\n",
       "zscore_1           float64\n",
       "price_std          float64\n",
       "dtype: object"
      ]
     },
     "execution_count": 24,
     "metadata": {},
     "output_type": "execute_result"
    }
   ],
   "source": [
    "df1.dtypes"
   ]
  },
  {
   "cell_type": "markdown",
   "id": "f0b87fd0-542e-4dda-8655-5efe1918e963",
   "metadata": {},
   "source": [
    "## 1.4 Check NA"
   ]
  },
  {
   "cell_type": "code",
   "execution_count": 26,
   "id": "47a2069b-5213-4ae3-9ad0-99503d8598cf",
   "metadata": {},
   "outputs": [
    {
     "data": {
      "text/plain": [
       "unnamed: 0             0\n",
       "date_imp               0\n",
       "date_imp_d             0\n",
       "cluster                0\n",
       "category_name          0\n",
       "name                   0\n",
       "price                  0\n",
       "disc_price             0\n",
       "merchant               0\n",
       "condition              0\n",
       "disc_percentage        0\n",
       "is_sale                0\n",
       "imp_count              0\n",
       "brand                  0\n",
       "p_description          0\n",
       "currency               0\n",
       "date_added             0\n",
       "date_seen              0\n",
       "date_updated           0\n",
       "image_ur_ls        22696\n",
       "manufacturer       10639\n",
       "shipping           11497\n",
       "source_ur_ls        4930\n",
       "weight                68\n",
       "date_imp_d.1           0\n",
       "day_n                  0\n",
       "month                  0\n",
       "month_n                0\n",
       "day                    0\n",
       "week_number            0\n",
       "zscore_1             171\n",
       "price_std              0\n",
       "dtype: int64"
      ]
     },
     "execution_count": 26,
     "metadata": {},
     "output_type": "execute_result"
    }
   ],
   "source": [
    "df1.isna().sum()"
   ]
  },
  {
   "cell_type": "code",
   "execution_count": null,
   "id": "8c56d5ba-f474-4b5f-b330-c3750ed0625c",
   "metadata": {},
   "outputs": [],
   "source": []
  }
 ],
 "metadata": {
  "kernelspec": {
   "display_name": "Python 3 (ipykernel)",
   "language": "python",
   "name": "python3"
  },
  "language_info": {
   "codemirror_mode": {
    "name": "ipython",
    "version": 3
   },
   "file_extension": ".py",
   "mimetype": "text/x-python",
   "name": "python",
   "nbconvert_exporter": "python",
   "pygments_lexer": "ipython3",
   "version": "3.8.13"
  }
 },
 "nbformat": 4,
 "nbformat_minor": 5
}
